{
 "cells": [
  {
   "cell_type": "code",
   "execution_count": 1,
   "id": "german-slave",
   "metadata": {},
   "outputs": [],
   "source": [
    "import os\n",
    "import time\n",
    "import json\n",
    "import requests\n",
    "import platform\n",
    "import browser_cookie3\n",
    "from playsound import playsound"
   ]
  },
  {
   "cell_type": "code",
   "execution_count": 2,
   "id": "bronze-deputy",
   "metadata": {},
   "outputs": [],
   "source": [
    "def load_cookie_from_chrome():\n",
    "    global jar\n",
    "\n",
    "    cookie_path = None\n",
    "    os_type = platform.system()\n",
    "    if os_type == \"Linux\":\n",
    "        # browser_cookie3 also checks beta version of google chrome's cookie file.\n",
    "        cookie_path = os.path.expanduser(\n",
    "            \"~/.config/google-chrome/Default/Cookies\")\n",
    "        if os.path.exists(cookie_path) is False:\n",
    "            cookie_path = os.path.expanduser(\n",
    "                \"~/.config/google-chrome-beta/Default/Cookies\")\n",
    "    elif os_type == \"Darwin\":\n",
    "        cookie_path = os.path.expanduser(\n",
    "            \"~/Library/Application Support/Google/Chrome/Default/Cookies\")\n",
    "    elif os_type == \"Windows\":\n",
    "        cookie_path = os.path.expandvars(\n",
    "            \"%LOCALAPPDATA%/Google/Chrome/User Data/Default/Cookies\")\n",
    "    else:  # Jython?\n",
    "        print(\"지원하지 않는 환경입니다.\")\n",
    "        close()\n",
    "\n",
    "    if os.path.exists(cookie_path) is False:\n",
    "        print(\"기본 쿠키 파일 경로에 파일이 존재하지 않습니다. 아래 링크를 참조하여 쿠키 파일 경로를 지정해주세요.\\n\" +\n",
    "              \"https://github.com/SJang1/korea-covid-19-remaining-vaccine-macro/discussions/403\")\n",
    "        close()\n",
    "\n",
    "    cookies = browser_cookie3.chrome(domain_name=\".naver.com\")\n",
    "    return cookies"
   ]
  },
  {
   "cell_type": "code",
   "execution_count": 3,
   "id": "democratic-belgium",
   "metadata": {},
   "outputs": [],
   "source": [
    "def find_vaccine(cookie):\n",
    "    global done\n",
    "    \n",
    "    url = \"https://api.place.naver.com/graphql\"\n",
    "    header = {'Content-Type': 'application/json; charset=utf-8'}\n",
    "    payload = '[{\"operationName\":\"vaccineList\",\"variables\":{\"input\":{\"keyword\":\"코로나백신위탁의료기관\",\"categories\":[\"1004836\"],\"x\":\"129.3487515\",\"y\":\"36.0227425\"},\"businessesInput\":{\"start\":0,\"display\":100,\"deviceType\":\"mobile\",\"x\":\"129.3487515\",\"y\":\"36.0227425\",\"bounds\":\"129.3289675;36.0005255;129.3685355;36.0449533\",\"sortingOrder\":\"distance\"},\"isNmap\":false,\"isBounds\":false},\"query\":\"query vaccineList($input: RestsInput, $businessesInput: RestsBusinessesInput, $isNmap: Boolean!, $isBounds: Boolean!) {  rests(input: $input) {    businesses(input: $businessesInput) {      total      vaccineLastSave      isUpdateDelayed      items {        id        name        dbType        phone        virtualPhone        hasBooking        hasNPay        bookingReviewCount        description        distance        commonAddress        roadAddress        address        imageUrl        imageCount        tags        distance        promotionTitle        category        routeUrl        businessHours        x        y        imageMarker @include(if: $isNmap) {          marker          markerSelected          __typename        }        markerLabel @include(if: $isNmap) {          text          style          __typename        }        isDelivery        isTakeOut        isPreOrder        isTableOrder        naverBookingCategory        bookingDisplayName        bookingBusinessId        bookingVisitId        bookingPickupId        vaccineOpeningHour {          isDayOff          standardTime          __typename        }        vaccineQuantity {          totalQuantity          totalQuantityStatus          startTime          endTime          vaccineOrganizationCode          list {            quantity            quantityStatus            vaccineType            __typename          }          __typename        }        __typename      }      optionsForMap @include(if: $isBounds) {        maxZoom        minZoom        includeMyLocation        maxIncludePoiCount        center        __typename      }      __typename    }    queryResult {      keyword      vaccineFilter      categories      region      isBrandList      filterBooking      hasNearQuery      isPublicMask      __typename    }    __typename  }}\"}]'\n",
    "    r = requests.post(url, data=payload.encode(\"utf-8\"), headers=header, cookies=cookie)\n",
    "    r = json.loads(r.text)\n",
    "    items = r[0][\"data\"][\"rests\"][\"businesses\"][\"items\"]\n",
    "    for item in items:\n",
    "        exist = False\n",
    "        rest_str = \"\"\n",
    "        this_hosp_name = item[\"name\"]\n",
    "        for vaccine in item[\"vaccineQuantity\"][\"list\"]:\n",
    "            if vaccine[\"quantity\"] > 0 and (vaccine[\"vaccineType\"]==\"화이자\" or vaccine[\"vaccineType\"]==\"모더나\"):\n",
    "                exist = True\n",
    "                rest_str += \" ⌙ {} : {}개 남음\".format(vaccine[\"vaccineType\"], vaccine[\"quantity\"])\n",
    "        if exist:\n",
    "            done = True\n",
    "            playsound(\"wow.wav\")\n",
    "            print(this_hosp_name)\n",
    "            print(\"{}\\n\".format(rest_str))"
   ]
  },
  {
   "cell_type": "code",
   "execution_count": null,
   "id": "fleet-couple",
   "metadata": {},
   "outputs": [
    {
     "name": "stdout",
     "output_type": "stream",
     "text": [
      "60번째 시도중...\r"
     ]
    }
   ],
   "source": [
    "done = False\n",
    "try_count = 0\n",
    "cookie = load_cookie_from_chrome()\n",
    "while True:\n",
    "    if done:\n",
    "        break\n",
    "    try_count += 1\n",
    "    time.sleep(0.2)\n",
    "    print(\"{}번째 시도중...\".format(try_count), end=\"\\r\")\n",
    "    find_vaccine(cookie)"
   ]
  }
 ],
 "metadata": {
  "kernelspec": {
   "display_name": "Python 3",
   "language": "python",
   "name": "python3"
  },
  "language_info": {
   "codemirror_mode": {
    "name": "ipython",
    "version": 3
   },
   "file_extension": ".py",
   "mimetype": "text/x-python",
   "name": "python",
   "nbconvert_exporter": "python",
   "pygments_lexer": "ipython3",
   "version": "3.8.2"
  }
 },
 "nbformat": 4,
 "nbformat_minor": 5
}
